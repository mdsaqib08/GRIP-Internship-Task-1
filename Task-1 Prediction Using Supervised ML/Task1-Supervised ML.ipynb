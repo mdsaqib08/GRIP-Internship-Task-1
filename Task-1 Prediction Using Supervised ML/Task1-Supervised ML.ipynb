{
 "cells": [
  {
   "cell_type": "markdown",
   "id": "fifth-shipping",
   "metadata": {},
   "source": [
    "# GRIP : THE SPARKS FOUNDATION\n",
    "## DATA SCIENCE AND BUISNESS ANALYTICS\n",
    "### Prediction using Supervised ML \n",
    "**Task 1 : <u>Predict the percentage of an student based on the no. of study hours.<br>\n",
    "This is a simple linear regression task as it involves just 2 variables.</u>**\n",
    "### <font color='red'>Author : Md Saqib intern at at The Spark Foundation</font>\n",
    "###  #GRIPJULY21"
   ]
  },
  {
   "cell_type": "markdown",
   "id": "spatial-annual",
   "metadata": {},
   "source": [
    "# 1) : IMPORT REQUIRED MODULE "
   ]
  },
  {
   "cell_type": "code",
   "execution_count": 1,
   "id": "charged-divorce",
   "metadata": {},
   "outputs": [],
   "source": [
    "import numpy as np\n",
    "import pandas as pd\n",
    "import matplotlib.pyplot as pt"
   ]
  },
  {
   "cell_type": "markdown",
   "id": "eleven-argentina",
   "metadata": {},
   "source": [
    "## 2) : Import Linear Resgression from Scikit-learn module"
   ]
  },
  {
   "cell_type": "code",
   "execution_count": 2,
   "id": "built-chancellor",
   "metadata": {},
   "outputs": [],
   "source": [
    "from sklearn.linear_model import LinearRegression"
   ]
  },
  {
   "cell_type": "code",
   "execution_count": 3,
   "id": "canadian-suffering",
   "metadata": {},
   "outputs": [],
   "source": [
    "from sklearn.model_selection import train_test_split"
   ]
  },
  {
   "cell_type": "markdown",
   "id": "guilty-phone",
   "metadata": {},
   "source": [
    "## 3) : Import Dataset"
   ]
  },
  {
   "cell_type": "code",
   "execution_count": 4,
   "id": "refined-maker",
   "metadata": {},
   "outputs": [],
   "source": [
    "data=pd.read_csv(\"https://raw.githubusercontent.com/AdiPersonalWorks/Random/master/student_scores%20-%20student_scores.csv\")"
   ]
  },
  {
   "cell_type": "code",
   "execution_count": 5,
   "id": "literary-leonard",
   "metadata": {},
   "outputs": [
    {
     "data": {
      "text/html": [
       "<div>\n",
       "<style scoped>\n",
       "    .dataframe tbody tr th:only-of-type {\n",
       "        vertical-align: middle;\n",
       "    }\n",
       "\n",
       "    .dataframe tbody tr th {\n",
       "        vertical-align: top;\n",
       "    }\n",
       "\n",
       "    .dataframe thead th {\n",
       "        text-align: right;\n",
       "    }\n",
       "</style>\n",
       "<table border=\"1\" class=\"dataframe\">\n",
       "  <thead>\n",
       "    <tr style=\"text-align: right;\">\n",
       "      <th></th>\n",
       "      <th>Hours</th>\n",
       "      <th>Scores</th>\n",
       "    </tr>\n",
       "  </thead>\n",
       "  <tbody>\n",
       "    <tr>\n",
       "      <th>0</th>\n",
       "      <td>2.5</td>\n",
       "      <td>21</td>\n",
       "    </tr>\n",
       "    <tr>\n",
       "      <th>1</th>\n",
       "      <td>5.1</td>\n",
       "      <td>47</td>\n",
       "    </tr>\n",
       "    <tr>\n",
       "      <th>2</th>\n",
       "      <td>3.2</td>\n",
       "      <td>27</td>\n",
       "    </tr>\n",
       "    <tr>\n",
       "      <th>3</th>\n",
       "      <td>8.5</td>\n",
       "      <td>75</td>\n",
       "    </tr>\n",
       "    <tr>\n",
       "      <th>4</th>\n",
       "      <td>3.5</td>\n",
       "      <td>30</td>\n",
       "    </tr>\n",
       "  </tbody>\n",
       "</table>\n",
       "</div>"
      ],
      "text/plain": [
       "   Hours  Scores\n",
       "0    2.5      21\n",
       "1    5.1      47\n",
       "2    3.2      27\n",
       "3    8.5      75\n",
       "4    3.5      30"
      ]
     },
     "execution_count": 5,
     "metadata": {},
     "output_type": "execute_result"
    }
   ],
   "source": [
    "data.head()"
   ]
  },
  {
   "cell_type": "code",
   "execution_count": 6,
   "id": "extreme-bosnia",
   "metadata": {},
   "outputs": [
    {
     "data": {
      "text/html": [
       "<div>\n",
       "<style scoped>\n",
       "    .dataframe tbody tr th:only-of-type {\n",
       "        vertical-align: middle;\n",
       "    }\n",
       "\n",
       "    .dataframe tbody tr th {\n",
       "        vertical-align: top;\n",
       "    }\n",
       "\n",
       "    .dataframe thead th {\n",
       "        text-align: right;\n",
       "    }\n",
       "</style>\n",
       "<table border=\"1\" class=\"dataframe\">\n",
       "  <thead>\n",
       "    <tr style=\"text-align: right;\">\n",
       "      <th></th>\n",
       "      <th>Hours</th>\n",
       "      <th>Scores</th>\n",
       "    </tr>\n",
       "  </thead>\n",
       "  <tbody>\n",
       "    <tr>\n",
       "      <th>count</th>\n",
       "      <td>25.000000</td>\n",
       "      <td>25.000000</td>\n",
       "    </tr>\n",
       "    <tr>\n",
       "      <th>mean</th>\n",
       "      <td>5.012000</td>\n",
       "      <td>51.480000</td>\n",
       "    </tr>\n",
       "    <tr>\n",
       "      <th>std</th>\n",
       "      <td>2.525094</td>\n",
       "      <td>25.286887</td>\n",
       "    </tr>\n",
       "    <tr>\n",
       "      <th>min</th>\n",
       "      <td>1.100000</td>\n",
       "      <td>17.000000</td>\n",
       "    </tr>\n",
       "    <tr>\n",
       "      <th>25%</th>\n",
       "      <td>2.700000</td>\n",
       "      <td>30.000000</td>\n",
       "    </tr>\n",
       "    <tr>\n",
       "      <th>50%</th>\n",
       "      <td>4.800000</td>\n",
       "      <td>47.000000</td>\n",
       "    </tr>\n",
       "    <tr>\n",
       "      <th>75%</th>\n",
       "      <td>7.400000</td>\n",
       "      <td>75.000000</td>\n",
       "    </tr>\n",
       "    <tr>\n",
       "      <th>max</th>\n",
       "      <td>9.200000</td>\n",
       "      <td>95.000000</td>\n",
       "    </tr>\n",
       "  </tbody>\n",
       "</table>\n",
       "</div>"
      ],
      "text/plain": [
       "           Hours     Scores\n",
       "count  25.000000  25.000000\n",
       "mean    5.012000  51.480000\n",
       "std     2.525094  25.286887\n",
       "min     1.100000  17.000000\n",
       "25%     2.700000  30.000000\n",
       "50%     4.800000  47.000000\n",
       "75%     7.400000  75.000000\n",
       "max     9.200000  95.000000"
      ]
     },
     "execution_count": 6,
     "metadata": {},
     "output_type": "execute_result"
    }
   ],
   "source": [
    "data.describe()   # DESCRIPTION"
   ]
  },
  {
   "cell_type": "code",
   "execution_count": 7,
   "id": "forbidden-township",
   "metadata": {},
   "outputs": [
    {
     "name": "stdout",
     "output_type": "stream",
     "text": [
      "<class 'pandas.core.frame.DataFrame'>\n",
      "RangeIndex: 25 entries, 0 to 24\n",
      "Data columns (total 2 columns):\n",
      " #   Column  Non-Null Count  Dtype  \n",
      "---  ------  --------------  -----  \n",
      " 0   Hours   25 non-null     float64\n",
      " 1   Scores  25 non-null     int64  \n",
      "dtypes: float64(1), int64(1)\n",
      "memory usage: 528.0 bytes\n"
     ]
    }
   ],
   "source": [
    "data.info()"
   ]
  },
  {
   "cell_type": "code",
   "execution_count": 8,
   "id": "completed-clear",
   "metadata": {},
   "outputs": [
    {
     "name": "stdout",
     "output_type": "stream",
     "text": [
      "   Hours\n",
      "0    2.5\n",
      "1    5.1\n",
      "2    3.2\n",
      "3    8.5\n",
      "4    3.5\n",
      "   Scores\n",
      "0      21\n",
      "1      47\n",
      "2      27\n",
      "3      75\n",
      "4      30\n"
     ]
    }
   ],
   "source": [
    "X=data.iloc[:,:1]\n",
    "Y=data.iloc[:,1:]\n",
    "print(X.head())   # Independent Variable\n",
    "print(Y.head())   # Dependent Variable"
   ]
  },
  {
   "cell_type": "markdown",
   "id": "electronic-certification",
   "metadata": {},
   "source": [
    "### 4) : SPLITTING THE TRAIN AND TEST SAMPLES"
   ]
  },
  {
   "cell_type": "code",
   "execution_count": 9,
   "id": "dirty-chambers",
   "metadata": {},
   "outputs": [],
   "source": [
    "x_train,x_test,y_train,y_test=train_test_split(X,Y,test_size=0.33)"
   ]
  },
  {
   "cell_type": "code",
   "execution_count": 10,
   "id": "digital-specialist",
   "metadata": {},
   "outputs": [
    {
     "name": "stdout",
     "output_type": "stream",
     "text": [
      "Train Size:  16 16\n",
      "Test Size:  9 9\n"
     ]
    }
   ],
   "source": [
    "print(\"Train Size: \",len(x_train),len(y_train))\n",
    "print(\"Test Size: \",len(x_test),len(y_test))"
   ]
  },
  {
   "cell_type": "markdown",
   "id": "sudden-sphere",
   "metadata": {},
   "source": [
    "### 5) : DRAW INITIAL GRAPH"
   ]
  },
  {
   "cell_type": "code",
   "execution_count": 11,
   "id": "seven-cathedral",
   "metadata": {},
   "outputs": [
    {
     "data": {
      "image/png": "[encoded data removed]",
      "text/plain": [
       "<Figure size 432x288 with 1 Axes>"
      ]
     },
     "metadata": {
      "needs_background": "light"
     },
     "output_type": "display_data"
    }
   ],
   "source": [
    "pt.scatter(X,Y,color='brown',label='scores')\n",
    "pt.title(\"Hours vs scores\")\n",
    "pt.xlabel(\"Hours\")\n",
    "pt.ylabel(\"Score\")\n",
    "pt.legend()\n",
    "pt.grid()\n",
    "pt.show()"
   ]
  },
  {
   "cell_type": "markdown",
   "id": "public-alpha",
   "metadata": {},
   "source": [
    "### 6) : Training the Algorithm"
   ]
  },
  {
   "cell_type": "code",
   "execution_count": 12,
   "id": "actual-hobby",
   "metadata": {},
   "outputs": [
    {
     "data": {
      "text/plain": [
       "LinearRegression()"
      ]
     },
     "execution_count": 12,
     "metadata": {},
     "output_type": "execute_result"
    }
   ],
   "source": [
    "model=LinearRegression()\n",
    "model.fit(x_train,y_train)"
   ]
  },
  {
   "cell_type": "markdown",
   "id": "suspended-imaging",
   "metadata": {},
   "source": [
    "### 7) : Predict the test case"
   ]
  },
  {
   "cell_type": "code",
   "execution_count": 13,
   "id": "proprietary-stick",
   "metadata": {},
   "outputs": [],
   "source": [
    "y_predict=model.predict(x_test)"
   ]
  },
  {
   "cell_type": "code",
   "execution_count": 14,
   "id": "recreational-fleece",
   "metadata": {},
   "outputs": [
    {
     "name": "stdout",
     "output_type": "stream",
     "text": [
      "SLOPE=  [[10.02915586]]\n",
      "INTERCEPT=  [1.31121867]\n"
     ]
    }
   ],
   "source": [
    "intercept=model.intercept_     # Intercept value(c)\n",
    "slope=model.coef_              # Slope Value(m)\n",
    "line=slope*X+intercept         # Linear Line(y=mx+c)\n",
    "print(\"SLOPE= \",slope)\n",
    "print(\"INTERCEPT= \",intercept)"
   ]
  },
  {
   "cell_type": "markdown",
   "id": "crazy-bacteria",
   "metadata": {},
   "source": [
    "### 8) :  DRAW FINAL GRAPH WITH LINEAR REGRESSION BEST FITTED LINE"
   ]
  },
  {
   "cell_type": "code",
   "execution_count": 15,
   "id": "narrow-spencer",
   "metadata": {},
   "outputs": [
    {
     "data": {
      "image/png": "[encoded data removed]",
      "text/plain": [
       "<Figure size 432x288 with 1 Axes>"
      ]
     },
     "metadata": {
      "needs_background": "light"
     },
     "output_type": "display_data"
    }
   ],
   "source": [
    "pt.scatter(X,Y,color='brown')\n",
    "pt.plot(X,line,color='blue',label='line of regression')\n",
    "pt.title(\"Hours vs scores\")\n",
    "pt.xlabel(\"Hours\")\n",
    "pt.ylabel(\"Score\")\n",
    "pt.legend()\n",
    "pt.grid()\n",
    "pt.show()"
   ]
  },
  {
   "cell_type": "markdown",
   "id": "colonial-liberal",
   "metadata": {},
   "source": [
    "**<font color='red'>QUESTION)- What will be predicted score if a student studies for 9.25 hrs/ day?</font>**"
   ]
  },
  {
   "cell_type": "code",
   "execution_count": 16,
   "id": "numerical-february",
   "metadata": {},
   "outputs": [
    {
     "name": "stdout",
     "output_type": "stream",
     "text": [
      "If the student study 9.25 hours they will get:  94.08  Score\n"
     ]
    }
   ],
   "source": [
    "answer=model.predict([[9.25]])\n",
    "print(\"If the student study 9.25 hours they will get: \",round(float(answer),2),\" Score\")"
   ]
  },
  {
   "cell_type": "markdown",
   "id": "danish-center",
   "metadata": {},
   "source": [
    "**9) : ACCURACY CHECK OF LINEAR MODEL**"
   ]
  },
  {
   "cell_type": "code",
   "execution_count": 17,
   "id": "british-divide",
   "metadata": {},
   "outputs": [],
   "source": [
    "from sklearn.metrics import mean_squared_error,mean_absolute_error,r2_score   # import necessary functions"
   ]
  },
  {
   "cell_type": "code",
   "execution_count": 18,
   "id": "ecological-colony",
   "metadata": {},
   "outputs": [
    {
     "name": "stdout",
     "output_type": "stream",
     "text": [
      "mean squared error:  36.02623986613959\n",
      "mean_absolute_error:  5.524215243765806\n",
      "r2_score:  0.9565961829313823\n"
     ]
    }
   ],
   "source": [
    "print(\"mean squared error: \",mean_squared_error(y_test,y_predict))\n",
    "print(\"mean_absolute_error: \",mean_absolute_error(y_test,y_predict))\n",
    "print(\"r2_score: \",r2_score(y_test,y_predict))"
   ]
  },
  {
   "cell_type": "markdown",
   "id": "separated-orchestra",
   "metadata": {},
   "source": [
    "**THANKYOU**"
   ]
  }
 ],
 "metadata": {
  "kernelspec": {
   "display_name": "Python 3",
   "language": "python",
   "name": "python3"
  },
  "language_info": {
   "codemirror_mode": {
    "name": "ipython",
    "version": 3
   },
   "file_extension": ".py",
   "mimetype": "text/x-python",
   "name": "python",
   "nbconvert_exporter": "python",
   "pygments_lexer": "ipython3",
   "version": "3.9.1"
  }
 },
 "nbformat": 4,
 "nbformat_minor": 5
}
